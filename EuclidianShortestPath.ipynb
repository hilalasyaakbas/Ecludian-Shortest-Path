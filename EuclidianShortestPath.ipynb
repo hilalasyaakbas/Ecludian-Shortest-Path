{
 "cells": [
  {
   "cell_type": "code",
   "execution_count": 1,
   "id": "59ef4aea-53b9-4f08-8e0d-ad77f25d7a00",
   "metadata": {},
   "outputs": [],
   "source": [
    "#öklid teoremi ile minimum mesafeyi bulmak"
   ]
  },
  {
   "cell_type": "code",
   "execution_count": 54,
   "id": "10adb53a-2368-4d98-91d8-4e37f388dda4",
   "metadata": {},
   "outputs": [],
   "source": [
    "def euclideanDistance (point1,point2):\n",
    "   return ((point2[0] - point1[0])**2 + (point2[1] - point1[1])**2)**0.5"
   ]
  },
  {
   "cell_type": "code",
   "execution_count": 56,
   "id": "a477e9b7-8fc9-44b1-8fed-5dadfeb8858f",
   "metadata": {},
   "outputs": [],
   "source": [
    "points=[(10,2),(5,5)]\n",
    "distances=[]"
   ]
  },
  {
   "cell_type": "code",
   "execution_count": 58,
   "id": "8201e8a0-8a58-474f-865c-f40efb4beaf7",
   "metadata": {},
   "outputs": [],
   "source": [
    "for i in range(len(points)):\n",
    "    for j in range(i + 1, len(points)):\n",
    "        point1 = points[i]\n",
    "        point2 = points[j]\n",
    "        dist = euclideanDistance(point1, point2)\n",
    "        distances.append(dist)"
   ]
  },
  {
   "cell_type": "code",
   "execution_count": 60,
   "id": "65333352-b3d1-498d-8050-500194375bcc",
   "metadata": {},
   "outputs": [],
   "source": [
    "min_distance = min(distances)"
   ]
  },
  {
   "cell_type": "code",
   "execution_count": 62,
   "id": "e794b347-4ae1-4c79-8578-55800a6d47a7",
   "metadata": {},
   "outputs": [
    {
     "name": "stdout",
     "output_type": "stream",
     "text": [
      "Tüm noktalar arasındaki mesafeler: [5.830951894845301]\n",
      "Minimum mesafe: 5.830951894845301\n"
     ]
    }
   ],
   "source": [
    "print(\"Tüm noktalar arasındaki mesafeler:\", distances)\n",
    "print(\"Minimum mesafe:\", min_distance)"
   ]
  },
  {
   "cell_type": "code",
   "execution_count": null,
   "id": "00a06778-d790-487d-9fed-c43b439b23b3",
   "metadata": {},
   "outputs": [],
   "source": []
  }
 ],
 "metadata": {
  "kernelspec": {
   "display_name": "Python 3 (ipykernel)",
   "language": "python",
   "name": "python3"
  },
  "language_info": {
   "codemirror_mode": {
    "name": "ipython",
    "version": 3
   },
   "file_extension": ".py",
   "mimetype": "text/x-python",
   "name": "python",
   "nbconvert_exporter": "python",
   "pygments_lexer": "ipython3",
   "version": "3.12.4"
  }
 },
 "nbformat": 4,
 "nbformat_minor": 5
}
